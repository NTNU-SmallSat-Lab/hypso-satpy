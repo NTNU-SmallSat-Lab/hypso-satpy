{
 "cells": [
  {
   "cell_type": "code",
   "execution_count": 1,
   "metadata": {},
   "outputs": [],
   "source": [
    "# Run 'source ~/.profile'\n",
    "import satpy\n",
    "from satpy import Scene, find_files_and_readers\n",
    "import sys\n",
    "import matplotlib.pyplot as plt\n",
    "import numpy as np\n",
    "import pandas as pd\n",
    "from pyresample import geometry\n",
    "from pyproj import CRS\n",
    "from satpy.composites import GenericCompositor\n",
    "from satpy.writers import to_image\n",
    "import os\n",
    "\n",
    "import datetime\n",
    "\n",
    "sys.path.insert(0,'/home/cameron/Projects/')\n",
    "\n",
    "\n",
    "# ====== Configuration =======\n",
    "\n",
    "# Place .nc and .points (GCPs) files in the capture_directory. \n",
    "# NB: Filenames should match the same pattern. For example: erie_2022-07-19_1550Z-l1a.nc and erie_2022-07-19_1550Z-bin3.points.\n",
    "capture_directory = '/home/cameron/Dokumenter/Data/erie'\n",
    "capture_directory = '/home/cameron/Dokumenter/Data/svalbardeidembukta/temp'\n",
    "\n",
    "nc_file = '/home/cameron/Dokumenter/Data/svalbardeidembukta/svalbardeidembukta_2023-03-16_1214Z-l1a.nc'\n",
    "points_file = '/home/cameron/Dokumenter/Data/svalbardeidembukta/svalbardeidembukta_2023-03-16_1214Z-bin3.points'\n",
    "\n",
    "# Define area of interest\n",
    "bbox = (-83.534546, 41.356196, -81.359009, 42.706660) # W. Lake Erie\n",
    "bbox = (13.364868, 77.401491, 17.265015, 77.915669) # Van Mijenfjorden\n",
    "\n",
    "# Specified resample image resolution:\n",
    "resolution = (500,500)\n",
    "\n",
    "def get_area(scene, bbox=None, resolution=(500,500)):\n",
    "\n",
    "    if bbox == None:\n",
    "        grid_lats = scene['band_80'].attrs['area'].lats.data\n",
    "        grid_lons = scene['band_80'].attrs['area'].lons.data   \n",
    "\n",
    "        # Is there a function that can do this? Possibly in pyresample.\n",
    "        lon_min = grid_lons.min()\n",
    "        lon_max = grid_lons.max()\n",
    "        lat_min = grid_lats.min()\n",
    "        lat_max = grid_lats.max()\n",
    "\n",
    "        bbox = (lon_min,lat_min,lon_max,lat_max)\n",
    "\n",
    "    area_id = 'roi'\n",
    "    proj_id = 'roi'\n",
    "    description = 'roi'\n",
    "    projection = CRS.from_epsg(4326)\n",
    "    width = resolution[0]\n",
    "    height = resolution[1]\n",
    "    area_extent = list(bbox)\n",
    "\n",
    "    # Define area definition\n",
    "    area_def = geometry.AreaDefinition(area_id, proj_id, description, projection,  width, height, area_extent)\n",
    "\n",
    "    return area_def\n",
    "\n",
    "def write_composites(scene, resampled_scene, name, gamma=2):\n",
    "\n",
    "    # Original capture composite\n",
    "    s = scene\n",
    "    compositor = GenericCompositor(\"overview\")\n",
    "    composite = compositor([s['band_80'][:,::3], s['band_40'][:,::3], s['band_15'][:,::3]]) # Red, Green, Blue\n",
    "    #composite = composite[:,:,::-1] # correct for composite mirroring\n",
    "    img = to_image(composite[:,:,::-1]) \n",
    "    img.invert([False, False, False])\n",
    "    img.stretch(\"linear\")\n",
    "    img.gamma([gamma, gamma, gamma])\n",
    "    img.save('./composites/' + name + '.png')\n",
    "\n",
    "    # Resampled capture composites\n",
    "    s = resampled_scene\n",
    "    compositor = GenericCompositor(\"overview\")\n",
    "    composite = compositor([s['band_80'], s['band_40'], s['band_15']]) # Red, Green, Blue\n",
    "    img = to_image(composite)\n",
    "    img.invert([False, False, False])\n",
    "    img.stretch(\"linear\")\n",
    "    img.gamma([gamma, gamma, gamma])\n",
    "    img.save('./composites/resampled_' + name + '.png')\n",
    "\n",
    "def write_nc(scene, datasets, name):\n",
    "\n",
    "    scene.save_datasets(writer='cf', \n",
    "                        datasets=datasets, \n",
    "                        filename = './datasets/' + name + '.nc')\n"
   ]
  },
  {
   "cell_type": "code",
   "execution_count": 2,
   "metadata": {},
   "outputs": [
    {
     "name": "stderr",
     "output_type": "stream",
     "text": [
      "/home/cameron/miniforge3/lib/python3.10/site-packages/pyproj/crs/crs.py:1286: UserWarning: You will likely lose important projection information when converting to a PROJ string from another format. See: https://proj.org/faq.html#what-is-the-best-format-for-describing-coordinate-reference-systems\n",
      "  proj = self._crs.to_proj4(version=version)\n"
     ]
    }
   ],
   "source": [
    "\n",
    "files = [nc_file, points_file]\n",
    "\n",
    "scene = Scene(filenames=files, reader='hypso1_l1a_nc', reader_kwargs={'flip': True})\n",
    "datasets = scene.available_dataset_names()\n",
    "\n",
    "#scene.load(datasets)\n",
    "scene.load(['latitude', 'longitude', 'band_80', 'band_40', 'band_15'])\n",
    "\n",
    "area_def = get_area(scene, bbox=bbox, resolution=resolution)\n",
    "\n",
    "resampled_scene = scene.resample(area_def, resampler='bilinear', fill_value=np.NaN)"
   ]
  },
  {
   "cell_type": "code",
   "execution_count": 4,
   "metadata": {},
   "outputs": [],
   "source": [
    "lons, lats = resampled_scene[\"band_80\"].attrs[\"area\"].get_lonlats()"
   ]
  },
  {
   "cell_type": "code",
   "execution_count": 5,
   "metadata": {},
   "outputs": [
    {
     "data": {
      "text/plain": [
       "(500, 500)"
      ]
     },
     "execution_count": 5,
     "metadata": {},
     "output_type": "execute_result"
    }
   ],
   "source": [
    "lons.shape"
   ]
  },
  {
   "cell_type": "code",
   "execution_count": 4,
   "metadata": {},
   "outputs": [
    {
     "data": {
      "text/plain": [
       "[DataID(name='band_15', wavelength=441, modifiers=()),\n",
       " DataID(name='band_40', wavelength=529, modifiers=()),\n",
       " DataID(name='band_80', wavelength=669, modifiers=()),\n",
       " DataID(name='latitude', modifiers=()),\n",
       " DataID(name='longitude', modifiers=())]"
      ]
     },
     "execution_count": 4,
     "metadata": {},
     "output_type": "execute_result"
    }
   ],
   "source": [
    "list(resampled_scene.keys())"
   ]
  },
  {
   "cell_type": "code",
   "execution_count": null,
   "metadata": {},
   "outputs": [],
   "source": []
  }
 ],
 "metadata": {
  "kernelspec": {
   "display_name": "Python 3",
   "language": "python",
   "name": "python3"
  },
  "language_info": {
   "codemirror_mode": {
    "name": "ipython",
    "version": 3
   },
   "file_extension": ".py",
   "mimetype": "text/x-python",
   "name": "python",
   "nbconvert_exporter": "python",
   "pygments_lexer": "ipython3",
   "version": "3.10.12"
  }
 },
 "nbformat": 4,
 "nbformat_minor": 4
}
