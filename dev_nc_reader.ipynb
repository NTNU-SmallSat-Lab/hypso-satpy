{
 "cells": [
  {
   "cell_type": "code",
   "execution_count": 1,
   "metadata": {},
   "outputs": [
    {
     "name": "stdout",
     "output_type": "stream",
     "text": [
      "('lines', 'samples', 'bands')\n",
      "<xarray.DataArray 'Lt' (lines: 956, samples: 684, bands: 120)>\n",
      "array([[[ 925, 1625, 2686, ..., 7623, 7699, 7681],\n",
      "        [ 948, 1643, 2740, ..., 7613, 7670, 7674],\n",
      "        [ 945, 1612, 2718, ..., 7723, 7763, 7726],\n",
      "        ...,\n",
      "        [ 731, 1290, 2191, ..., 6901, 6926, 6996],\n",
      "        [ 744, 1270, 2142, ..., 7003, 7079, 7161],\n",
      "        [ 718, 1260, 2168, ..., 7156, 7138, 7161]],\n",
      "\n",
      "       [[ 916, 1616, 2710, ..., 7554, 7655, 7654],\n",
      "        [ 927, 1626, 2736, ..., 7585, 7636, 7612],\n",
      "        [ 946, 1607, 2744, ..., 7657, 7713, 7742],\n",
      "        ...,\n",
      "        [ 739, 1257, 2148, ..., 6843, 6895, 6943],\n",
      "        [ 738, 1245, 2179, ..., 6922, 7004, 7042],\n",
      "        [ 732, 1257, 2162, ..., 7086, 7108, 7137]],\n",
      "\n",
      "       [[ 908, 1610, 2694, ..., 7555, 7602, 7663],\n",
      "        [ 948, 1613, 2733, ..., 7531, 7598, 7603],\n",
      "        [ 923, 1615, 2735, ..., 7598, 7718, 7676],\n",
      "        ...,\n",
      "...\n",
      "        ...,\n",
      "        [ 248,  387,  629, ..., 2289, 2297, 2312],\n",
      "        [ 250,  395,  633, ..., 2316, 2338, 2323],\n",
      "        [ 243,  392,  617, ..., 2289, 2300, 2329]],\n",
      "\n",
      "       [[ 285,  444,  707, ..., 2283, 2306, 2257],\n",
      "        [ 284,  451,  722, ..., 2275, 2304, 2278],\n",
      "        [ 276,  454,  712, ..., 2312, 2289, 2309],\n",
      "        ...,\n",
      "        [ 247,  395,  633, ..., 2270, 2251, 2306],\n",
      "        [ 247,  394,  629, ..., 2252, 2285, 2284],\n",
      "        [ 245,  395,  632, ..., 2286, 2245, 2277]],\n",
      "\n",
      "       [[ 290,  449,  713, ..., 2249, 2246, 2253],\n",
      "        [ 276,  454,  715, ..., 2238, 2232, 2265],\n",
      "        [ 275,  447,  714, ..., 2285, 2321, 2235],\n",
      "        ...,\n",
      "        [ 248,  389,  627, ..., 2191, 2203, 2245],\n",
      "        [ 249,  396,  636, ..., 2217, 2209, 2209],\n",
      "        [ 244,  388,  625, ..., 2202, 2197, 2234]]], dtype=uint16)\n",
      "Dimensions without coordinates: lines, samples, bands\n",
      "(956, 684, 120)\n",
      "(956, 684, 120)\n"
     ]
    }
   ],
   "source": [
    "# Run 'source ~/.profile'\n",
    "import satpy\n",
    "from satpy import Scene, find_files_and_readers\n",
    "import sys\n",
    "import matplotlib.pyplot as plt\n",
    "import numpy as np\n",
    "import pandas as pd\n",
    "\n",
    "sys.path.insert(0,'/home/cameron/Projects/')\n",
    "\n",
    "#print(satpy.config.to_dict())\n",
    "#print(satpy.available_readers())\n",
    "\n",
    "files_1 = find_files_and_readers(base_dir=\"/home/cameron/Nedlastinger/\", reader='hypso1_l1a_nc')\n",
    "#files_1 = find_files_and_readers(base_dir=\"/home/cameron/Nedlastinger/erie_2023-03-01_1559Z-l1a.nc\", reader='hypso1_l1a_nc')\n",
    "\n",
    "scene_1 = Scene(filenames=files_1, reader_kwargs={'flip': True})\n",
    "\n",
    "datasets_1 = scene_1.available_dataset_names()\n",
    "\n",
    "# Don't need to load all the datasets just for testing\n",
    "#scene_1.load(datasets_1)\n",
    "\n",
    "#scene_1.load(['latitude', 'longitude', '80', '40', '15'])\n",
    "\n"
   ]
  },
  {
   "cell_type": "code",
   "execution_count": null,
   "metadata": {},
   "outputs": [],
   "source": []
  }
 ],
 "metadata": {
  "kernelspec": {
   "display_name": "Python 3",
   "language": "python",
   "name": "python3"
  },
  "language_info": {
   "codemirror_mode": {
    "name": "ipython",
    "version": 3
   },
   "file_extension": ".py",
   "mimetype": "text/x-python",
   "name": "python",
   "nbconvert_exporter": "python",
   "pygments_lexer": "ipython3",
   "version": "3.10.12"
  }
 },
 "nbformat": 4,
 "nbformat_minor": 4
}
