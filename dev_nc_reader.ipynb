{
 "cells": [
  {
   "cell_type": "code",
   "execution_count": 1,
   "metadata": {},
   "outputs": [
    {
     "ename": "NotImplementedError",
     "evalue": "",
     "output_type": "error",
     "traceback": [
      "\u001b[0;31m---------------------------------------------------------------------------\u001b[0m",
      "\u001b[0;31mNotImplementedError\u001b[0m                       Traceback (most recent call last)",
      "Cell \u001b[0;32mIn[1], line 22\u001b[0m\n\u001b[1;32m     19\u001b[0m datasets_1 \u001b[38;5;241m=\u001b[39m scene_1\u001b[38;5;241m.\u001b[39mavailable_dataset_names()\n\u001b[1;32m     21\u001b[0m \u001b[38;5;66;03m# Don't need to load all the datasets just for testing\u001b[39;00m\n\u001b[0;32m---> 22\u001b[0m \u001b[43mscene_1\u001b[49m\u001b[38;5;241;43m.\u001b[39;49m\u001b[43mload\u001b[49m\u001b[43m(\u001b[49m\u001b[43mdatasets_1\u001b[49m\u001b[43m)\u001b[49m\n\u001b[1;32m     24\u001b[0m \u001b[38;5;66;03m#scene_1.load(['latitude', 'longitude', '80', '40', '15'])\u001b[39;00m\n",
      "File \u001b[0;32m~/miniforge3/lib/python3.10/site-packages/satpy/scene.py:1443\u001b[0m, in \u001b[0;36mScene.load\u001b[0;34m(self, wishlist, calibration, resolution, polarization, level, modifiers, generate, unload, **kwargs)\u001b[0m\n\u001b[1;32m   1439\u001b[0m \u001b[38;5;28mself\u001b[39m\u001b[38;5;241m.\u001b[39m_update_dependency_tree(needed_datasets, query)\n\u001b[1;32m   1441\u001b[0m \u001b[38;5;28mself\u001b[39m\u001b[38;5;241m.\u001b[39m_wishlist \u001b[38;5;241m|\u001b[39m\u001b[38;5;241m=\u001b[39m needed_datasets\n\u001b[0;32m-> 1443\u001b[0m \u001b[38;5;28;43mself\u001b[39;49m\u001b[38;5;241;43m.\u001b[39;49m\u001b[43m_read_datasets_from_storage\u001b[49m\u001b[43m(\u001b[49m\u001b[38;5;241;43m*\u001b[39;49m\u001b[38;5;241;43m*\u001b[39;49m\u001b[43mkwargs\u001b[49m\u001b[43m)\u001b[49m\n\u001b[1;32m   1444\u001b[0m \u001b[38;5;28;01mif\u001b[39;00m generate:\n\u001b[1;32m   1445\u001b[0m     \u001b[38;5;28mself\u001b[39m\u001b[38;5;241m.\u001b[39mgenerate_possible_composites(unload)\n",
      "File \u001b[0;32m~/miniforge3/lib/python3.10/site-packages/satpy/scene.py:1466\u001b[0m, in \u001b[0;36mScene._read_datasets_from_storage\u001b[0;34m(self, **kwargs)\u001b[0m\n\u001b[1;32m   1456\u001b[0m \u001b[38;5;250m\u001b[39m\u001b[38;5;124;03m\"\"\"Load datasets from the necessary reader.\u001b[39;00m\n\u001b[1;32m   1457\u001b[0m \n\u001b[1;32m   1458\u001b[0m \u001b[38;5;124;03mArgs:\u001b[39;00m\n\u001b[0;32m   (...)\u001b[0m\n\u001b[1;32m   1463\u001b[0m \n\u001b[1;32m   1464\u001b[0m \u001b[38;5;124;03m\"\"\"\u001b[39;00m\n\u001b[1;32m   1465\u001b[0m nodes \u001b[38;5;241m=\u001b[39m \u001b[38;5;28mself\u001b[39m\u001b[38;5;241m.\u001b[39m_dependency_tree\u001b[38;5;241m.\u001b[39mleaves(limit_nodes_to\u001b[38;5;241m=\u001b[39m\u001b[38;5;28mself\u001b[39m\u001b[38;5;241m.\u001b[39mmissing_datasets)\n\u001b[0;32m-> 1466\u001b[0m \u001b[38;5;28;01mreturn\u001b[39;00m \u001b[38;5;28;43mself\u001b[39;49m\u001b[38;5;241;43m.\u001b[39;49m\u001b[43m_read_dataset_nodes_from_storage\u001b[49m\u001b[43m(\u001b[49m\u001b[43mnodes\u001b[49m\u001b[43m,\u001b[49m\u001b[43m \u001b[49m\u001b[38;5;241;43m*\u001b[39;49m\u001b[38;5;241;43m*\u001b[39;49m\u001b[43mkwargs\u001b[49m\u001b[43m)\u001b[49m\n",
      "File \u001b[0;32m~/miniforge3/lib/python3.10/site-packages/satpy/scene.py:1472\u001b[0m, in \u001b[0;36mScene._read_dataset_nodes_from_storage\u001b[0;34m(self, reader_nodes, **kwargs)\u001b[0m\n\u001b[1;32m   1470\u001b[0m \u001b[38;5;66;03m# Sort requested datasets by reader\u001b[39;00m\n\u001b[1;32m   1471\u001b[0m reader_datasets \u001b[38;5;241m=\u001b[39m \u001b[38;5;28mself\u001b[39m\u001b[38;5;241m.\u001b[39m_sort_dataset_nodes_by_reader(reader_nodes)\n\u001b[0;32m-> 1472\u001b[0m loaded_datasets \u001b[38;5;241m=\u001b[39m \u001b[38;5;28;43mself\u001b[39;49m\u001b[38;5;241;43m.\u001b[39;49m\u001b[43m_load_datasets_by_readers\u001b[49m\u001b[43m(\u001b[49m\u001b[43mreader_datasets\u001b[49m\u001b[43m,\u001b[49m\u001b[43m \u001b[49m\u001b[38;5;241;43m*\u001b[39;49m\u001b[38;5;241;43m*\u001b[39;49m\u001b[43mkwargs\u001b[49m\u001b[43m)\u001b[49m\n\u001b[1;32m   1473\u001b[0m \u001b[38;5;28mself\u001b[39m\u001b[38;5;241m.\u001b[39m_datasets\u001b[38;5;241m.\u001b[39mupdate(loaded_datasets)\n\u001b[1;32m   1474\u001b[0m \u001b[38;5;28;01mreturn\u001b[39;00m loaded_datasets\n",
      "File \u001b[0;32m~/miniforge3/lib/python3.10/site-packages/satpy/scene.py:1497\u001b[0m, in \u001b[0;36mScene._load_datasets_by_readers\u001b[0;34m(self, reader_datasets, **kwargs)\u001b[0m\n\u001b[1;32m   1495\u001b[0m \u001b[38;5;28;01mfor\u001b[39;00m reader_name, ds_ids \u001b[38;5;129;01min\u001b[39;00m reader_datasets\u001b[38;5;241m.\u001b[39mitems():\n\u001b[1;32m   1496\u001b[0m     reader_instance \u001b[38;5;241m=\u001b[39m \u001b[38;5;28mself\u001b[39m\u001b[38;5;241m.\u001b[39m_readers[reader_name]\n\u001b[0;32m-> 1497\u001b[0m     new_datasets \u001b[38;5;241m=\u001b[39m \u001b[43mreader_instance\u001b[49m\u001b[38;5;241;43m.\u001b[39;49m\u001b[43mload\u001b[49m\u001b[43m(\u001b[49m\u001b[43mds_ids\u001b[49m\u001b[43m,\u001b[49m\u001b[43m \u001b[49m\u001b[38;5;241;43m*\u001b[39;49m\u001b[38;5;241;43m*\u001b[39;49m\u001b[43mkwargs\u001b[49m\u001b[43m)\u001b[49m\n\u001b[1;32m   1498\u001b[0m     loaded_datasets\u001b[38;5;241m.\u001b[39mupdate(new_datasets)\n\u001b[1;32m   1499\u001b[0m \u001b[38;5;28;01mreturn\u001b[39;00m loaded_datasets\n",
      "File \u001b[0;32m~/miniforge3/lib/python3.10/site-packages/satpy/readers/yaml_reader.py:936\u001b[0m, in \u001b[0;36mFileYAMLReader.load\u001b[0;34m(self, dataset_keys, previous_datasets, **kwargs)\u001b[0m\n\u001b[1;32m    933\u001b[0m     \u001b[38;5;28;01mcontinue\u001b[39;00m\n\u001b[1;32m    934\u001b[0m coords \u001b[38;5;241m=\u001b[39m [all_datasets\u001b[38;5;241m.\u001b[39mget(cid, \u001b[38;5;28;01mNone\u001b[39;00m)\n\u001b[1;32m    935\u001b[0m           \u001b[38;5;28;01mfor\u001b[39;00m cid \u001b[38;5;129;01min\u001b[39;00m coordinates\u001b[38;5;241m.\u001b[39mget(dsid, [])]\n\u001b[0;32m--> 936\u001b[0m ds \u001b[38;5;241m=\u001b[39m \u001b[38;5;28;43mself\u001b[39;49m\u001b[38;5;241;43m.\u001b[39;49m\u001b[43m_load_dataset_with_area\u001b[49m\u001b[43m(\u001b[49m\u001b[43mdsid\u001b[49m\u001b[43m,\u001b[49m\u001b[43m \u001b[49m\u001b[43mcoords\u001b[49m\u001b[43m,\u001b[49m\u001b[43m \u001b[49m\u001b[38;5;241;43m*\u001b[39;49m\u001b[38;5;241;43m*\u001b[39;49m\u001b[43mkwargs\u001b[49m\u001b[43m)\u001b[49m\n\u001b[1;32m    937\u001b[0m \u001b[38;5;28;01mif\u001b[39;00m ds \u001b[38;5;129;01mis\u001b[39;00m \u001b[38;5;129;01mnot\u001b[39;00m \u001b[38;5;28;01mNone\u001b[39;00m:\n\u001b[1;32m    938\u001b[0m     all_datasets[dsid] \u001b[38;5;241m=\u001b[39m ds\n",
      "File \u001b[0;32m~/miniforge3/lib/python3.10/site-packages/satpy/readers/yaml_reader.py:824\u001b[0m, in \u001b[0;36mFileYAMLReader._load_dataset_with_area\u001b[0;34m(self, dsid, coords, **kwargs)\u001b[0m\n\u001b[1;32m    821\u001b[0m     \u001b[38;5;28;01mreturn\u001b[39;00m\n\u001b[1;32m    823\u001b[0m \u001b[38;5;28;01mtry\u001b[39;00m:\n\u001b[0;32m--> 824\u001b[0m     ds \u001b[38;5;241m=\u001b[39m \u001b[38;5;28;43mself\u001b[39;49m\u001b[38;5;241;43m.\u001b[39;49m\u001b[43m_load_dataset_data\u001b[49m\u001b[43m(\u001b[49m\u001b[43mfile_handlers\u001b[49m\u001b[43m,\u001b[49m\u001b[43m \u001b[49m\u001b[43mdsid\u001b[49m\u001b[43m,\u001b[49m\u001b[43m \u001b[49m\u001b[38;5;241;43m*\u001b[39;49m\u001b[38;5;241;43m*\u001b[39;49m\u001b[43mkwargs\u001b[49m\u001b[43m)\u001b[49m\n\u001b[1;32m    825\u001b[0m \u001b[38;5;28;01mexcept\u001b[39;00m (\u001b[38;5;167;01mKeyError\u001b[39;00m, \u001b[38;5;167;01mValueError\u001b[39;00m) \u001b[38;5;28;01mas\u001b[39;00m err:\n\u001b[1;32m    826\u001b[0m     logger\u001b[38;5;241m.\u001b[39mexception(\u001b[38;5;124m\"\u001b[39m\u001b[38;5;124mCould not load dataset \u001b[39m\u001b[38;5;124m'\u001b[39m\u001b[38;5;132;01m%s\u001b[39;00m\u001b[38;5;124m'\u001b[39m\u001b[38;5;124m: \u001b[39m\u001b[38;5;132;01m%s\u001b[39;00m\u001b[38;5;124m\"\u001b[39m, dsid, \u001b[38;5;28mstr\u001b[39m(err))\n",
      "File \u001b[0;32m~/miniforge3/lib/python3.10/site-packages/satpy/readers/yaml_reader.py:724\u001b[0m, in \u001b[0;36mFileYAMLReader._load_dataset_data\u001b[0;34m(self, file_handlers, dsid, **kwargs)\u001b[0m\n\u001b[1;32m    722\u001b[0m \u001b[38;5;28;01mdef\u001b[39;00m \u001b[38;5;21m_load_dataset_data\u001b[39m(\u001b[38;5;28mself\u001b[39m, file_handlers, dsid, \u001b[38;5;241m*\u001b[39m\u001b[38;5;241m*\u001b[39mkwargs):\n\u001b[1;32m    723\u001b[0m     ds_info \u001b[38;5;241m=\u001b[39m \u001b[38;5;28mself\u001b[39m\u001b[38;5;241m.\u001b[39mall_ids[dsid]\n\u001b[0;32m--> 724\u001b[0m     proj \u001b[38;5;241m=\u001b[39m \u001b[38;5;28;43mself\u001b[39;49m\u001b[38;5;241;43m.\u001b[39;49m\u001b[43m_load_dataset\u001b[49m\u001b[43m(\u001b[49m\u001b[43mdsid\u001b[49m\u001b[43m,\u001b[49m\u001b[43m \u001b[49m\u001b[43mds_info\u001b[49m\u001b[43m,\u001b[49m\u001b[43m \u001b[49m\u001b[43mfile_handlers\u001b[49m\u001b[43m,\u001b[49m\u001b[43m \u001b[49m\u001b[38;5;241;43m*\u001b[39;49m\u001b[38;5;241;43m*\u001b[39;49m\u001b[43mkwargs\u001b[49m\u001b[43m)\u001b[49m\n\u001b[1;32m    725\u001b[0m     \u001b[38;5;66;03m# FIXME: areas could be concatenated here\u001b[39;00m\n\u001b[1;32m    726\u001b[0m     \u001b[38;5;66;03m# Update the metadata\u001b[39;00m\n\u001b[1;32m    727\u001b[0m     proj\u001b[38;5;241m.\u001b[39mattrs[\u001b[38;5;124m\"\u001b[39m\u001b[38;5;124mstart_time\u001b[39m\u001b[38;5;124m\"\u001b[39m] \u001b[38;5;241m=\u001b[39m file_handlers[\u001b[38;5;241m0\u001b[39m]\u001b[38;5;241m.\u001b[39mstart_time\n",
      "File \u001b[0;32m~/miniforge3/lib/python3.10/site-packages/satpy/readers/yaml_reader.py:700\u001b[0m, in \u001b[0;36mFileYAMLReader._load_dataset\u001b[0;34m(dsid, ds_info, file_handlers, dim, **kwargs)\u001b[0m\n\u001b[1;32m    698\u001b[0m \u001b[38;5;28;01mfor\u001b[39;00m fh \u001b[38;5;129;01min\u001b[39;00m file_handlers:\n\u001b[1;32m    699\u001b[0m     \u001b[38;5;28;01mtry\u001b[39;00m:\n\u001b[0;32m--> 700\u001b[0m         projectable \u001b[38;5;241m=\u001b[39m \u001b[43mfh\u001b[49m\u001b[38;5;241;43m.\u001b[39;49m\u001b[43mget_dataset\u001b[49m\u001b[43m(\u001b[49m\u001b[43mdsid\u001b[49m\u001b[43m,\u001b[49m\u001b[43m \u001b[49m\u001b[43mds_info\u001b[49m\u001b[43m)\u001b[49m\n\u001b[1;32m    701\u001b[0m         \u001b[38;5;28;01mif\u001b[39;00m projectable \u001b[38;5;129;01mis\u001b[39;00m \u001b[38;5;129;01mnot\u001b[39;00m \u001b[38;5;28;01mNone\u001b[39;00m:\n\u001b[1;32m    702\u001b[0m             slice_list\u001b[38;5;241m.\u001b[39mappend(projectable)\n",
      "File \u001b[0;32m~/miniforge3/lib/python3.10/site-packages/satpy/readers/file_handlers.py:68\u001b[0m, in \u001b[0;36mBaseFileHandler.get_dataset\u001b[0;34m(self, dataset_id, ds_info)\u001b[0m\n\u001b[1;32m     66\u001b[0m \u001b[38;5;28;01mdef\u001b[39;00m \u001b[38;5;21mget_dataset\u001b[39m(\u001b[38;5;28mself\u001b[39m, dataset_id, ds_info):\n\u001b[1;32m     67\u001b[0m \u001b[38;5;250m    \u001b[39m\u001b[38;5;124;03m\"\"\"Get dataset.\"\"\"\u001b[39;00m\n\u001b[0;32m---> 68\u001b[0m     \u001b[38;5;28;01mraise\u001b[39;00m \u001b[38;5;167;01mNotImplementedError\u001b[39;00m\n",
      "\u001b[0;31mNotImplementedError\u001b[0m: "
     ]
    }
   ],
   "source": [
    "# Run 'source ~/.profile'\n",
    "import satpy\n",
    "from satpy import Scene, find_files_and_readers\n",
    "import sys\n",
    "import matplotlib.pyplot as plt\n",
    "import numpy as np\n",
    "import pandas as pd\n",
    "\n",
    "sys.path.insert(0,'/home/cameron/Projects/')\n",
    "\n",
    "#print(satpy.config.to_dict())\n",
    "#print(satpy.available_readers())\n",
    "\n",
    "files_1 = find_files_and_readers(base_dir=\"/home/cameron/Dokumenter/Data/erie_2023-03-01_1559Z-l1a\", reader='hypso1_l1a_nc')\n",
    "#files_1 = find_files_and_readers(base_dir=\"/home/cameron/Nedlastinger/erie_2023-03-01_1559Z-l1a.nc\", reader='hypso1_l1a_nc')\n",
    "\n",
    "scene_1 = Scene(filenames=files_1, reader_kwargs={'flip': True})\n",
    "\n",
    "datasets_1 = scene_1.available_dataset_names()\n",
    "\n",
    "# Don't need to load all the datasets just for testing\n",
    "scene_1.load(datasets_1)\n",
    "\n",
    "#scene_1.load(['latitude', 'longitude', '80', '40', '15'])\n",
    "\n"
   ]
  },
  {
   "cell_type": "code",
   "execution_count": null,
   "metadata": {},
   "outputs": [],
   "source": []
  }
 ],
 "metadata": {
  "kernelspec": {
   "display_name": "Python 3",
   "language": "python",
   "name": "python3"
  },
  "language_info": {
   "codemirror_mode": {
    "name": "ipython",
    "version": 3
   },
   "file_extension": ".py",
   "mimetype": "text/x-python",
   "name": "python",
   "nbconvert_exporter": "python",
   "pygments_lexer": "ipython3",
   "version": "3.10.12"
  }
 },
 "nbformat": 4,
 "nbformat_minor": 4
}
