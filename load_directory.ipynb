{
 "cells": [
  {
   "cell_type": "code",
   "execution_count": 2,
   "metadata": {},
   "outputs": [],
   "source": [
    "# Run 'source ~/.profile'\n",
    "import satpy\n",
    "from satpy import Scene, find_files_and_readers\n",
    "import sys\n",
    "import matplotlib.pyplot as plt\n",
    "import numpy as np\n",
    "import pandas as pd\n",
    "from pyresample import geometry\n",
    "from pyproj import CRS\n",
    "from satpy.composites import GenericCompositor\n",
    "from satpy.writers import to_image\n",
    "import os\n",
    "\n",
    "import datetime\n",
    "\n",
    "sys.path.insert(0,'/home/cameron/Projects/')\n",
    "\n",
    "files_1 = find_files_and_readers(base_dir=\"/home/cameron/Dokumenter/Data/combined\", \n",
    "                                 reader='hypso1_l1a_nc', \n",
    "                                 start_time=datetime.datetime(2023, 3, 1, 15, 59))\n",
    "\n",
    "\n",
    "files_1 = find_files_and_readers(base_dir=\"/home/cameron/Dokumenter/Data/combined\", \n",
    "                                 reader='hypso1_l1a_nc', \n",
    "                                 start_time=datetime.datetime(2023, 3, 1, 15, 0),\n",
    "                                 end_time=datetime.datetime(2023, 3, 1, 16, 0))\n",
    "\n",
    "files_1 = find_files_and_readers(base_dir=\"/home/cameron/Dokumenter/Data/combined\", \n",
    "                                 reader='hypso1_l1a_nc', \n",
    "                                 start_time=datetime.datetime(2023, 3, 1, 15, 0),\n",
    "                                 filter_parameters={'target': 'erie'})\n",
    "\n",
    "file_1 = ['/home/cameron/Dokumenter/Data/combined/lakeerie_2023-05-17_1553Z-l1a.nc',\n",
    "          '/home/cameron/Dokumenter/Data/combined/lakeerie_2023-05-17_1553Z-bin3.points']\n",
    "\n",
    "capture_directory = '/home/cameron/Dokumenter/Data/erie'\n",
    "\n",
    "\n",
    "#from glob import glob\n",
    "#scene_1 = Scene(filenames=glob('/home/cameron/Dokumenter/Data/svalbardeidembukta/svalbardeidembukta_2023-03-25_*'), reader='hypso1_l1a_nc')"
   ]
  },
  {
   "cell_type": "code",
   "execution_count": 22,
   "metadata": {},
   "outputs": [
    {
     "data": {
      "text/plain": [
       "['erie_2022-07-09_1612Z', 'l1a.nc']"
      ]
     },
     "execution_count": 22,
     "metadata": {},
     "output_type": "execute_result"
    }
   ],
   "source": [
    "'erie_2022-07-09_1612Z-l1a.nc'.rsplit('-', maxsplit=1)"
   ]
  },
  {
   "cell_type": "code",
   "execution_count": 33,
   "metadata": {},
   "outputs": [
    {
     "data": {
      "text/plain": [
       "['/home/cameron/Dokumenter/Data/erie/20220827_CaptureDL_00_erie_2022_08_27T16_05_36',\n",
       " '/home/cameron/Dokumenter/Data/erie/erie_2022-07-19_1550Z-bin3.points',\n",
       " '/home/cameron/Dokumenter/Data/erie/erie_2022-07-09_1612Z-l1a.nc',\n",
       " '/home/cameron/Dokumenter/Data/erie/erie_2023-06-17_1541Z-l1a.nc',\n",
       " '/home/cameron/Dokumenter/Data/erie/erie_2023-09-15_1610Z-l1a.nc',\n",
       " '/home/cameron/Dokumenter/Data/erie/erie_2023-02-02_1552Z-l1a.nc',\n",
       " '/home/cameron/Dokumenter/Data/erie/20230605_CaptureDL_erie_2023-06-03_1612Z',\n",
       " '/home/cameron/Dokumenter/Data/erie/erie_2023-08-20_1538Z-bin3.points',\n",
       " '/home/cameron/Dokumenter/Data/erie/erie_2023-05-09_1622Z-l1a.nc',\n",
       " '/home/cameron/Dokumenter/Data/erie/erie_2023-06-03_1612Z-bin3.points',\n",
       " '/home/cameron/Dokumenter/Data/erie/erie_2023-08-24_1605Z-l1a.nc',\n",
       " '/home/cameron/Dokumenter/Data/erie/20230519_CaptureDL_erie_2023-05-17_1553Z',\n",
       " '/home/cameron/Dokumenter/Data/erie/erie_2023-04-27_1616Z-l1a.nc',\n",
       " '/home/cameron/Dokumenter/Data/erie/erie_2022-08-27_1605Z-bin3.points',\n",
       " '/home/cameron/Dokumenter/Data/erie/erie_2023-10-02_1559Z-bin3.points',\n",
       " '/home/cameron/Dokumenter/Data/erie/20230901_CaptureDL_erie_2023-08-31_1542Z',\n",
       " '/home/cameron/Dokumenter/Data/erie/erie_2022-07-20_1539Z-bin3.points',\n",
       " '/home/cameron/Dokumenter/Data/erie/erie_2022-08-27_1605Z-l1a.nc',\n",
       " '/home/cameron/Dokumenter/Data/erie/20231004_CaptureDL_erie_2023-10-02_1559Z',\n",
       " '/home/cameron/Dokumenter/Data/erie/erie_2023-10-02_1559Z-l1a.nc',\n",
       " '/home/cameron/Dokumenter/Data/erie/erie_2023-12-14_1543Z-l1a.nc',\n",
       " '/home/cameron/Dokumenter/Data/erie/erie_2023-06-17_1541Z-bin3.points',\n",
       " '/home/cameron/Dokumenter/Data/erie/erie_2023-03-01_1559Z-bin3.points',\n",
       " '/home/cameron/Dokumenter/Data/erie/erie_2023-06-04_1557Z-l1a.nc',\n",
       " '/home/cameron/Dokumenter/Data/erie/erie_2022-07-19_1550Z-l1a.nc',\n",
       " '/home/cameron/Dokumenter/Data/erie/20230821_CaptureDL_erie_2023-08-20_1538Z',\n",
       " '/home/cameron/Dokumenter/Data/erie/erie_2023-03-01_1559Z-l1a.nc',\n",
       " '/home/cameron/Dokumenter/Data/erie/erie_2023-12-08_1603Z-l1a.nc',\n",
       " '/home/cameron/Dokumenter/Data/erie/erie_2023-05-17_1553Z-bin3.points',\n",
       " '/home/cameron/Dokumenter/Data/erie/erie_2022-09-09_1640Z-l1a.nc',\n",
       " '/home/cameron/Dokumenter/Data/erie/erie_2022-07-29_1528Z-bin3.points',\n",
       " '/home/cameron/Dokumenter/Data/erie/20231215_CaptureDL_erie_2023-12-14_1543Z',\n",
       " '/home/cameron/Dokumenter/Data/erie/20230619_CaptureDL_erie_2023-06-17_1541Z',\n",
       " '/home/cameron/Dokumenter/Data/erie/erie_2023-03-07_1609Z-bin3.points',\n",
       " '/home/cameron/Dokumenter/Data/erie/erie_2023-05-17_1553Z-l1a.nc',\n",
       " '/home/cameron/Dokumenter/Data/erie/erie_2023-08-20_1538Z-l1a.nc',\n",
       " '/home/cameron/Dokumenter/Data/erie/20230605_CaptureDL_erie_2023-06-04_1557Z',\n",
       " '/home/cameron/Dokumenter/Data/erie/erie_2023-02-11_1524Z-bin3.points',\n",
       " '/home/cameron/Dokumenter/Data/erie/erie_2023-06-03_1612Z-l1a.nc',\n",
       " '/home/cameron/Dokumenter/Data/erie/erie_2023-11-14_1541Z-bin3.points',\n",
       " '/home/cameron/Dokumenter/Data/erie/erie_2023-03-04_1517Z-bin3.points',\n",
       " '/home/cameron/Dokumenter/Data/erie/erie_2023-05-15_1624Z-l1a.nc',\n",
       " '/home/cameron/Dokumenter/Data/erie/erie_2023-06-04_1557Z-bin3.points']"
      ]
     },
     "execution_count": 33,
     "metadata": {},
     "output_type": "execute_result"
    }
   ],
   "source": [
    "[os.path.join(capture_directory, file) for file in os.listdir(capture_directory)]"
   ]
  },
  {
   "cell_type": "code",
   "execution_count": 61,
   "metadata": {},
   "outputs": [
    {
     "name": "stdout",
     "output_type": "stream",
     "text": [
      "('/home/cameron/Dokumenter/Data/erie/erie_2023-06-17_1541Z-l1a.nc', '/home/cameron/Dokumenter/Data/erie/erie_2023-06-17_1541Z-bin3.points', 'erie_2023-06-17_1541Z')\n",
      "('/home/cameron/Dokumenter/Data/erie/erie_2022-08-27_1605Z-l1a.nc', '/home/cameron/Dokumenter/Data/erie/erie_2022-08-27_1605Z-bin3.points', 'erie_2022-08-27_1605Z')\n",
      "('/home/cameron/Dokumenter/Data/erie/erie_2023-10-02_1559Z-l1a.nc', '/home/cameron/Dokumenter/Data/erie/erie_2023-10-02_1559Z-bin3.points', 'erie_2023-10-02_1559Z')\n",
      "('/home/cameron/Dokumenter/Data/erie/erie_2023-06-04_1557Z-l1a.nc', '/home/cameron/Dokumenter/Data/erie/erie_2023-06-04_1557Z-bin3.points', 'erie_2023-06-04_1557Z')\n",
      "('/home/cameron/Dokumenter/Data/erie/erie_2022-07-19_1550Z-l1a.nc', '/home/cameron/Dokumenter/Data/erie/erie_2022-07-19_1550Z-bin3.points', 'erie_2022-07-19_1550Z')\n",
      "('/home/cameron/Dokumenter/Data/erie/erie_2023-03-01_1559Z-l1a.nc', '/home/cameron/Dokumenter/Data/erie/erie_2023-03-01_1559Z-bin3.points', 'erie_2023-03-01_1559Z')\n",
      "('/home/cameron/Dokumenter/Data/erie/erie_2023-05-17_1553Z-l1a.nc', '/home/cameron/Dokumenter/Data/erie/erie_2023-05-17_1553Z-bin3.points', 'erie_2023-05-17_1553Z')\n",
      "('/home/cameron/Dokumenter/Data/erie/erie_2023-08-20_1538Z-l1a.nc', '/home/cameron/Dokumenter/Data/erie/erie_2023-08-20_1538Z-bin3.points', 'erie_2023-08-20_1538Z')\n",
      "('/home/cameron/Dokumenter/Data/erie/erie_2023-06-03_1612Z-l1a.nc', '/home/cameron/Dokumenter/Data/erie/erie_2023-06-03_1612Z-bin3.points', 'erie_2023-06-03_1612Z')\n"
     ]
    }
   ],
   "source": [
    "# Filter files ending in '-l1a.nc' or '-bin3.points'\n",
    "#l1a_files = [file for file in os.listdir(capture_directory) if file.endswith('l1a.nc')]\n",
    "#bin3_files = [file for file in os.listdir(capture_directory) if file.endswith('bin3.points')]\n",
    "\n",
    "l1a_files = [file for file in os.listdir(capture_directory) if file.endswith('l1a.nc')]\n",
    "bin3_files = [file for file in os.listdir(capture_directory) if file.endswith('bin3.points')]\n",
    "\n",
    "l1a_files = [os.path.join(capture_directory, file) for file in os.listdir(capture_directory) if file.endswith('l1a.nc')]\n",
    "bin3_files = [os.path.join(capture_directory, file) for file in os.listdir(capture_directory) if file.endswith('bin3.points')]\n",
    "\n",
    "#file_paths = [os.path.join(capture_directory, file) for file in os.listdir(capture_directory) if os.path.isfile(os.path.join(capture_directory, file))]\n",
    "\n",
    "# Match pairs of files based on the first part of their file names\n",
    "matched_pairs = []\n",
    "for l1a_file in l1a_files:\n",
    "    l1a_prefix = l1a_file.rsplit('-', maxsplit=1)[0]\n",
    "    for bin3_file in bin3_files:\n",
    "        bin3_prefix = bin3_file.rsplit('-', maxsplit=1)[0]\n",
    "        if l1a_prefix == bin3_prefix:\n",
    "            l1a_file_prefix = l1a_prefix.split('/')[-1]\n",
    "            matched_pairs.append((l1a_file, bin3_file, l1a_file_prefix))\n",
    "            bin3_files.remove(bin3_file)  # Avoid duplicate matches\n",
    "\n",
    "# Print the matched pairs\n",
    "for pair in matched_pairs:\n",
    "    print(pair)"
   ]
  },
  {
   "cell_type": "code",
   "execution_count": 65,
   "metadata": {},
   "outputs": [],
   "source": [
    "def process_capture(nc_file, points_file, name):\n",
    "\n",
    "    files = [nc_file, points_file]\n",
    "\n",
    "    print(files)\n",
    "\n",
    "    scene = Scene(filenames=files, reader='hypso1_l1a_nc')\n",
    "    datasets = scene.available_dataset_names()\n",
    "    scene.load(datasets)\n",
    "    #scene.load(['latitude', 'longitude', '80', '40', '15'])\n",
    "\n",
    "    area_def = get_area(scene)\n",
    "\n",
    "    resampled_scene = scene.resample(area_def, resampler='bilinear', fill_value=np.NaN)\n",
    "\n",
    "    write_composites(scene, resampled_scene, name, gamma=2)\n",
    "\n",
    "def get_area(scene):\n",
    "\n",
    "    grid_lats = scene['80'].attrs['area'].lats.data\n",
    "    grid_lons = scene['80'].attrs['area'].lons.data   \n",
    "\n",
    "    # Is there a function that can do this? Possibly in pyresample.\n",
    "    lon_min = grid_lons.min()\n",
    "    lon_max = grid_lons.max()\n",
    "    lat_min = grid_lats.min()\n",
    "    lat_max = grid_lats.max()\n",
    "\n",
    "    bbox = (lon_min,lat_min,lon_max,lat_max)\n",
    "    #bbox = (-83.534546,41.356196,-82.359009,42.706660) # W. Lake Erie\n",
    "    bbox = (-83.534546,41.356196,-81.359009,42.706660) # W. Lake Erie\n",
    "\n",
    "    print(bbox)\n",
    "\n",
    "    area_id = 'roi'\n",
    "    proj_id = 'roi'\n",
    "    description = 'roi'\n",
    "    projection = CRS.from_epsg(4326)\n",
    "    width = 750\n",
    "    height = 750\n",
    "    area_extent = list(bbox)\n",
    "\n",
    "    # Define area definition\n",
    "    area_def = geometry.AreaDefinition(area_id, proj_id, description, projection,  width, height, area_extent)\n",
    "\n",
    "    return area_def\n",
    "\n",
    "def write_composites(scene, resampled_scene, name, gamma=2):\n",
    "\n",
    "    # Original capture composite\n",
    "    s = scene\n",
    "    compositor = GenericCompositor(\"overview\")\n",
    "    composite = compositor([s['80'][:,::3], s['40'][:,::3], s['15'][:,::3]]) # Red, Green, Blue\n",
    "    #composite = composite[:,:,::-1] # correct for composite mirroring\n",
    "    img = to_image(composite[:,:,::-1]) \n",
    "    img.invert([False, False, False])\n",
    "    img.stretch(\"linear\")\n",
    "    img.gamma([gamma, gamma, gamma])\n",
    "    img.save('./composites/' + name + '.png')\n",
    "\n",
    "    # Resampled capture composites\n",
    "    s = resampled_scene\n",
    "    compositor = GenericCompositor(\"overview\")\n",
    "    composite = compositor([s['80'], s['40'], s['15']]) # Red, Green, Blue\n",
    "    img = to_image(composite)\n",
    "    img.invert([False, False, False])\n",
    "    img.stretch(\"linear\")\n",
    "    img.gamma([gamma, gamma, gamma])\n",
    "    img.save('./composites/resampled_' + name + '.png')\n"
   ]
  },
  {
   "cell_type": "code",
   "execution_count": 67,
   "metadata": {},
   "outputs": [
    {
     "name": "stdout",
     "output_type": "stream",
     "text": [
      "['/home/cameron/Dokumenter/Data/erie/erie_2023-06-17_1541Z-l1a.nc', '/home/cameron/Dokumenter/Data/erie/erie_2023-06-17_1541Z-bin3.points']\n",
      "(-83.534546, 41.356196, -81.359009, 42.70666)\n"
     ]
    },
    {
     "name": "stderr",
     "output_type": "stream",
     "text": [
      "/home/cameron/miniforge3/lib/python3.10/site-packages/pyproj/crs/crs.py:1286: UserWarning: You will likely lose important projection information when converting to a PROJ string from another format. See: https://proj.org/faq.html#what-is-the-best-format-for-describing-coordinate-reference-systems\n",
      "  proj = self._crs.to_proj4(version=version)\n",
      "/home/cameron/miniforge3/lib/python3.10/site-packages/dask/array/chunk.py:278: RuntimeWarning: invalid value encountered in cast\n",
      "  return x.astype(astype_dtype, **kwargs)\n"
     ]
    }
   ],
   "source": [
    "for pair in matched_pairs:\n",
    "\n",
    "    nc_file = pair[0]\n",
    "    points_file = pair[1]\n",
    "    name = pair[2]\n",
    "\n",
    "    process_capture(nc_file=nc_file, points_file=points_file, name=name)"
   ]
  },
  {
   "cell_type": "code",
   "execution_count": 58,
   "metadata": {},
   "outputs": [
    {
     "data": {
      "text/plain": [
       "'/home/cameron/Dokumenter/Data/erie/erie_2023-06-17_1541Z-bin3.points'"
      ]
     },
     "execution_count": 58,
     "metadata": {},
     "output_type": "execute_result"
    }
   ],
   "source": [
    "matched_pairs[0][1]"
   ]
  },
  {
   "cell_type": "code",
   "execution_count": null,
   "metadata": {},
   "outputs": [],
   "source": [
    "list(matched_pairs[0][1], matched_pairs[0][1])"
   ]
  }
 ],
 "metadata": {
  "kernelspec": {
   "display_name": "Python 3",
   "language": "python",
   "name": "python3"
  },
  "language_info": {
   "codemirror_mode": {
    "name": "ipython",
    "version": 3
   },
   "file_extension": ".py",
   "mimetype": "text/x-python",
   "name": "python",
   "nbconvert_exporter": "python",
   "pygments_lexer": "ipython3",
   "version": "3.10.12"
  }
 },
 "nbformat": 4,
 "nbformat_minor": 4
}
