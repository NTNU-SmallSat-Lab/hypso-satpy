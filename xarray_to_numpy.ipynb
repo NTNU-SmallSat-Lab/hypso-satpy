{
 "cells": [
  {
   "cell_type": "code",
   "execution_count": 2,
   "metadata": {},
   "outputs": [
    {
     "name": "stderr",
     "output_type": "stream",
     "text": [
      "/home/cameron/miniforge3/lib/python3.10/site-packages/satpy/_scene_converters.py:95: UserWarning: dtype float16 not compatible with CF-1.7.\n",
      "  grouped_datasets, header_attrs = collect_cf_datasets(list_dataarrays=list_dataarrays,\n"
     ]
    },
    {
     "data": {
      "text/plain": [
       "(956, 684, 122)"
      ]
     },
     "execution_count": 2,
     "metadata": {},
     "output_type": "execute_result"
    }
   ],
   "source": [
    "from satpy import Scene\n",
    "import sys\n",
    "from glob import glob\n",
    "\n",
    "sys.path.insert(0,'/home/cameron/Projects/')\n",
    "\n",
    "files_3 = glob('/home/cameron/Dokumenter/Data/svalbardeidembukta/svalbardeidembukta_2023-03-14_14*')\n",
    "scene_3 = Scene(filenames=files_3, reader='hypso1_l1a_nc', reader_kwargs={'flip': True})\n",
    "datasets_3 = scene_3.available_dataset_names()\n",
    "scene_3.load(datasets_3)\n",
    "ds = scene_3.to_xarray()\n",
    "da = ds.to_stacked_array('band', sample_dims=['x','y'])\n",
    "da.to_numpy().shape\n"
   ]
  },
  {
   "cell_type": "code",
   "execution_count": null,
   "metadata": {},
   "outputs": [],
   "source": []
  }
 ],
 "metadata": {
  "kernelspec": {
   "display_name": "Python 3",
   "language": "python",
   "name": "python3"
  },
  "language_info": {
   "codemirror_mode": {
    "name": "ipython",
    "version": 3
   },
   "file_extension": ".py",
   "mimetype": "text/x-python",
   "name": "python",
   "nbconvert_exporter": "python",
   "pygments_lexer": "ipython3",
   "version": "3.10.12"
  }
 },
 "nbformat": 4,
 "nbformat_minor": 4
}
