{
 "cells": [
  {
   "cell_type": "code",
   "execution_count": 3,
   "metadata": {},
   "outputs": [],
   "source": [
    "# Run 'source ~/.profile'\n",
    "import satpy\n",
    "from satpy import Scene, find_files_and_readers\n",
    "import sys\n",
    "import matplotlib.pyplot as plt\n",
    "import numpy as np\n",
    "import pandas as pd\n",
    "from pyresample import geometry\n",
    "from pyproj import CRS\n",
    "from satpy.composites import GenericCompositor\n",
    "from satpy.writers import to_image\n",
    "from pyresample import load_area\n",
    "import os\n",
    "\n",
    "import datetime\n",
    "\n",
    "sys.path.insert(0,'/home/cameron/Projects/')\n",
    "\n",
    "# ====== Configuration =======\n",
    "\n",
    "# Place .nc and .points (GCPs) files in the capture_directory. \n",
    "# NB: Filenames should match the same pattern. For example: erie_2022-07-19_1550Z-l1a.nc and erie_2022-07-19_1550Z-bin3.points.\n",
    "#capture_directory = '/home/cameron/Dokumenter/Data/svalbardnyaalesund'\n",
    "capture_directory = '/home/cameron/Dokumenter/Data/svalbardeidembukta'\n",
    "\n",
    "area_def = load_area('../areas/van_mijenfjorden.yaml', 'sval2')"
   ]
  },
  {
   "cell_type": "code",
   "execution_count": 4,
   "metadata": {},
   "outputs": [
    {
     "name": "stdout",
     "output_type": "stream",
     "text": [
      "[('/home/cameron/Dokumenter/Data/svalbardeidembukta/svalbardeidembukta_2023-03-16_1348Z-l1a.nc', '/home/cameron/Dokumenter/Data/svalbardeidembukta/svalbardeidembukta_2023-03-16_1348Z-bin3.points', 'svalbardeidembukta_2023-03-16_1348Z'), ('/home/cameron/Dokumenter/Data/svalbardeidembukta/svalbardeidembukta_2023-03-25_1139Z-l1a.nc', '/home/cameron/Dokumenter/Data/svalbardeidembukta/svalbardeidembukta_2023-03-25_1139Z-bin3.points', 'svalbardeidembukta_2023-03-25_1139Z'), ('/home/cameron/Dokumenter/Data/svalbardeidembukta/svalbardeidembukta_2023-03-16_1214Z-l1a.nc', '/home/cameron/Dokumenter/Data/svalbardeidembukta/svalbardeidembukta_2023-03-16_1214Z-bin3.points', 'svalbardeidembukta_2023-03-16_1214Z'), ('/home/cameron/Dokumenter/Data/svalbardeidembukta/svalbardeidembukta_2023-03-14_1417Z-l1a.nc', '/home/cameron/Dokumenter/Data/svalbardeidembukta/svalbardeidembukta_2023-03-14_1417Z-bin3.points', 'svalbardeidembukta_2023-03-14_1417Z'), ('/home/cameron/Dokumenter/Data/svalbardeidembukta/svalbardeidembukta_2023-03-16_1522Z-l1a.nc', '/home/cameron/Dokumenter/Data/svalbardeidembukta/svalbardeidembukta_2023-03-16_1522Z-bin3.points', 'svalbardeidembukta_2023-03-16_1522Z'), ('/home/cameron/Dokumenter/Data/svalbardeidembukta/svalbardeidembukta_2023-03-25_1313Z-l1a.nc', '/home/cameron/Dokumenter/Data/svalbardeidembukta/svalbardeidembukta_2023-03-25_1313Z-bin3.points', 'svalbardeidembukta_2023-03-25_1313Z'), ('/home/cameron/Dokumenter/Data/svalbardeidembukta/svalbardeidembukta_2023-03-14_1243Z-l1a.nc', '/home/cameron/Dokumenter/Data/svalbardeidembukta/svalbardeidembukta_2023-03-14_1243Z-bin3.points', 'svalbardeidembukta_2023-03-14_1243Z'), ('/home/cameron/Dokumenter/Data/svalbardeidembukta/svalbardeidembukta_2023-03-21_1544Z-l1a.nc', '/home/cameron/Dokumenter/Data/svalbardeidembukta/svalbardeidembukta_2023-03-21_1544Z-bin3.points', 'svalbardeidembukta_2023-03-21_1544Z')]\n",
      "('/home/cameron/Dokumenter/Data/svalbardeidembukta/svalbardeidembukta_2023-03-16_1348Z-l1a.nc', '/home/cameron/Dokumenter/Data/svalbardeidembukta/svalbardeidembukta_2023-03-16_1348Z-bin3.points', 'svalbardeidembukta_2023-03-16_1348Z')\n"
     ]
    },
    {
     "name": "stderr",
     "output_type": "stream",
     "text": [
      "/home/cameron/miniforge3/lib/python3.10/site-packages/pyproj/crs/crs.py:1286: UserWarning: You will likely lose important projection information when converting to a PROJ string from another format. See: https://proj.org/faq.html#what-is-the-best-format-for-describing-coordinate-reference-systems\n",
      "  proj = self._crs.to_proj4(version=version)\n",
      "/home/cameron/miniforge3/lib/python3.10/site-packages/dask/array/chunk.py:278: RuntimeWarning: invalid value encountered in cast\n",
      "  return x.astype(astype_dtype, **kwargs)\n"
     ]
    },
    {
     "name": "stdout",
     "output_type": "stream",
     "text": [
      "('/home/cameron/Dokumenter/Data/svalbardeidembukta/svalbardeidembukta_2023-03-25_1139Z-l1a.nc', '/home/cameron/Dokumenter/Data/svalbardeidembukta/svalbardeidembukta_2023-03-25_1139Z-bin3.points', 'svalbardeidembukta_2023-03-25_1139Z')\n"
     ]
    },
    {
     "name": "stderr",
     "output_type": "stream",
     "text": [
      "/home/cameron/miniforge3/lib/python3.10/site-packages/pyproj/crs/crs.py:1286: UserWarning: You will likely lose important projection information when converting to a PROJ string from another format. See: https://proj.org/faq.html#what-is-the-best-format-for-describing-coordinate-reference-systems\n",
      "  proj = self._crs.to_proj4(version=version)\n",
      "/home/cameron/miniforge3/lib/python3.10/site-packages/dask/array/chunk.py:278: RuntimeWarning: invalid value encountered in cast\n",
      "  return x.astype(astype_dtype, **kwargs)\n"
     ]
    },
    {
     "name": "stdout",
     "output_type": "stream",
     "text": [
      "('/home/cameron/Dokumenter/Data/svalbardeidembukta/svalbardeidembukta_2023-03-16_1214Z-l1a.nc', '/home/cameron/Dokumenter/Data/svalbardeidembukta/svalbardeidembukta_2023-03-16_1214Z-bin3.points', 'svalbardeidembukta_2023-03-16_1214Z')\n"
     ]
    },
    {
     "name": "stderr",
     "output_type": "stream",
     "text": [
      "/home/cameron/miniforge3/lib/python3.10/site-packages/pyproj/crs/crs.py:1286: UserWarning: You will likely lose important projection information when converting to a PROJ string from another format. See: https://proj.org/faq.html#what-is-the-best-format-for-describing-coordinate-reference-systems\n",
      "  proj = self._crs.to_proj4(version=version)\n",
      "/home/cameron/miniforge3/lib/python3.10/site-packages/dask/array/chunk.py:278: RuntimeWarning: invalid value encountered in cast\n",
      "  return x.astype(astype_dtype, **kwargs)\n"
     ]
    },
    {
     "name": "stdout",
     "output_type": "stream",
     "text": [
      "('/home/cameron/Dokumenter/Data/svalbardeidembukta/svalbardeidembukta_2023-03-14_1417Z-l1a.nc', '/home/cameron/Dokumenter/Data/svalbardeidembukta/svalbardeidembukta_2023-03-14_1417Z-bin3.points', 'svalbardeidembukta_2023-03-14_1417Z')\n"
     ]
    },
    {
     "name": "stderr",
     "output_type": "stream",
     "text": [
      "/home/cameron/miniforge3/lib/python3.10/site-packages/pyproj/crs/crs.py:1286: UserWarning: You will likely lose important projection information when converting to a PROJ string from another format. See: https://proj.org/faq.html#what-is-the-best-format-for-describing-coordinate-reference-systems\n",
      "  proj = self._crs.to_proj4(version=version)\n",
      "/home/cameron/miniforge3/lib/python3.10/site-packages/dask/array/chunk.py:278: RuntimeWarning: invalid value encountered in cast\n",
      "  return x.astype(astype_dtype, **kwargs)\n"
     ]
    },
    {
     "name": "stdout",
     "output_type": "stream",
     "text": [
      "('/home/cameron/Dokumenter/Data/svalbardeidembukta/svalbardeidembukta_2023-03-16_1522Z-l1a.nc', '/home/cameron/Dokumenter/Data/svalbardeidembukta/svalbardeidembukta_2023-03-16_1522Z-bin3.points', 'svalbardeidembukta_2023-03-16_1522Z')\n"
     ]
    },
    {
     "name": "stderr",
     "output_type": "stream",
     "text": [
      "/home/cameron/miniforge3/lib/python3.10/site-packages/pyproj/crs/crs.py:1286: UserWarning: You will likely lose important projection information when converting to a PROJ string from another format. See: https://proj.org/faq.html#what-is-the-best-format-for-describing-coordinate-reference-systems\n",
      "  proj = self._crs.to_proj4(version=version)\n",
      "/home/cameron/miniforge3/lib/python3.10/site-packages/dask/array/chunk.py:278: RuntimeWarning: invalid value encountered in cast\n",
      "  return x.astype(astype_dtype, **kwargs)\n"
     ]
    },
    {
     "name": "stdout",
     "output_type": "stream",
     "text": [
      "('/home/cameron/Dokumenter/Data/svalbardeidembukta/svalbardeidembukta_2023-03-25_1313Z-l1a.nc', '/home/cameron/Dokumenter/Data/svalbardeidembukta/svalbardeidembukta_2023-03-25_1313Z-bin3.points', 'svalbardeidembukta_2023-03-25_1313Z')\n"
     ]
    },
    {
     "name": "stderr",
     "output_type": "stream",
     "text": [
      "/home/cameron/miniforge3/lib/python3.10/site-packages/pyproj/crs/crs.py:1286: UserWarning: You will likely lose important projection information when converting to a PROJ string from another format. See: https://proj.org/faq.html#what-is-the-best-format-for-describing-coordinate-reference-systems\n",
      "  proj = self._crs.to_proj4(version=version)\n",
      "/home/cameron/miniforge3/lib/python3.10/site-packages/dask/array/chunk.py:278: RuntimeWarning: invalid value encountered in cast\n",
      "  return x.astype(astype_dtype, **kwargs)\n"
     ]
    },
    {
     "name": "stdout",
     "output_type": "stream",
     "text": [
      "('/home/cameron/Dokumenter/Data/svalbardeidembukta/svalbardeidembukta_2023-03-14_1243Z-l1a.nc', '/home/cameron/Dokumenter/Data/svalbardeidembukta/svalbardeidembukta_2023-03-14_1243Z-bin3.points', 'svalbardeidembukta_2023-03-14_1243Z')\n"
     ]
    },
    {
     "name": "stderr",
     "output_type": "stream",
     "text": [
      "/home/cameron/miniforge3/lib/python3.10/site-packages/pyproj/crs/crs.py:1286: UserWarning: You will likely lose important projection information when converting to a PROJ string from another format. See: https://proj.org/faq.html#what-is-the-best-format-for-describing-coordinate-reference-systems\n",
      "  proj = self._crs.to_proj4(version=version)\n",
      "/home/cameron/miniforge3/lib/python3.10/site-packages/dask/array/chunk.py:278: RuntimeWarning: invalid value encountered in cast\n",
      "  return x.astype(astype_dtype, **kwargs)\n"
     ]
    },
    {
     "name": "stdout",
     "output_type": "stream",
     "text": [
      "('/home/cameron/Dokumenter/Data/svalbardeidembukta/svalbardeidembukta_2023-03-21_1544Z-l1a.nc', '/home/cameron/Dokumenter/Data/svalbardeidembukta/svalbardeidembukta_2023-03-21_1544Z-bin3.points', 'svalbardeidembukta_2023-03-21_1544Z')\n"
     ]
    },
    {
     "name": "stderr",
     "output_type": "stream",
     "text": [
      "/home/cameron/miniforge3/lib/python3.10/site-packages/pyproj/crs/crs.py:1286: UserWarning: You will likely lose important projection information when converting to a PROJ string from another format. See: https://proj.org/faq.html#what-is-the-best-format-for-describing-coordinate-reference-systems\n",
      "  proj = self._crs.to_proj4(version=version)\n",
      "/home/cameron/miniforge3/lib/python3.10/site-packages/dask/array/chunk.py:278: RuntimeWarning: invalid value encountered in cast\n",
      "  return x.astype(astype_dtype, **kwargs)\n"
     ]
    }
   ],
   "source": [
    "# ====== Script =======\n",
    "\n",
    "# Filter files ending in '-l1a.nc' or '-bin3.points'\n",
    "l1a_files = [os.path.join(capture_directory, file) for file in os.listdir(capture_directory) if file.endswith('l1a.nc')]\n",
    "bin3_files = [os.path.join(capture_directory, file) for file in os.listdir(capture_directory) if file.endswith('bin3.points')]\n",
    "\n",
    "# Match pairs of files based on the first part of their file names\n",
    "matched_pairs = []\n",
    "for l1a_file in l1a_files:\n",
    "    l1a_prefix = l1a_file.rsplit('-', maxsplit=1)[0]\n",
    "    for bin3_file in bin3_files:\n",
    "        bin3_prefix = bin3_file.rsplit('-', maxsplit=1)[0]\n",
    "        if l1a_prefix == bin3_prefix:\n",
    "            l1a_file_prefix = l1a_prefix.split('/')[-1]\n",
    "            matched_pairs.append((l1a_file, bin3_file, l1a_file_prefix))\n",
    "            bin3_files.remove(bin3_file)  # Avoid duplicate matches\n",
    "\n",
    "#for pair in matched_pairs:\n",
    "#    print(pair)\n",
    "\n",
    "#matched_pairs = [('/home/cameron/Dokumenter/Data/svalbardeidembukta/svalbardeidembukta_2023-03-16_1214Z-l1a.nc', '/home/cameron/Dokumenter/Data/svalbardeidembukta/svalbardeidembukta_2023-03-16_1214Z-bin3.points', 'svalbardeidembukta_2023-03-16_1214Z')]\n",
    "\n",
    "\n",
    "\n",
    "print(matched_pairs)\n",
    "\n",
    "\n",
    "for pair in matched_pairs:\n",
    "\n",
    "    print(pair)\n",
    "\n",
    "    nc_file = pair[0]\n",
    "    points_file = pair[1]\n",
    "    name = pair[2]\n",
    "\n",
    "    files = [nc_file, points_file]\n",
    "\n",
    "    scene = Scene(filenames=files, reader='hypso1_l1a_nc')\n",
    "    datasets = scene.available_dataset_names()\n",
    "\n",
    "    #scene.load(datasets)\n",
    "    scene.load(['band_80', 'band_40', 'band_15', 'rgb'])\n",
    "\n",
    "    resampled_scene = scene.resample(area_def, resampler='bilinear', fill_value=np.NaN)\n",
    "\n",
    "    img = resampled_scene.show('rgb', overlay={\"coast_dir\": '/home/cameron/Dokumenter/Pycoast'})\n",
    "    img.save('../composites_out/' + name + '.png')\n",
    "\n",
    "    del img\n",
    "    del resampled_scene\n",
    "    del scene"
   ]
  },
  {
   "cell_type": "code",
   "execution_count": null,
   "metadata": {},
   "outputs": [],
   "source": []
  },
  {
   "cell_type": "code",
   "execution_count": null,
   "metadata": {},
   "outputs": [],
   "source": []
  }
 ],
 "metadata": {
  "kernelspec": {
   "display_name": "Python 3",
   "language": "python",
   "name": "python3"
  },
  "language_info": {
   "codemirror_mode": {
    "name": "ipython",
    "version": 3
   },
   "file_extension": ".py",
   "mimetype": "text/x-python",
   "name": "python",
   "nbconvert_exporter": "python",
   "pygments_lexer": "ipython3",
   "version": "3.10.12"
  }
 },
 "nbformat": 4,
 "nbformat_minor": 4
}
